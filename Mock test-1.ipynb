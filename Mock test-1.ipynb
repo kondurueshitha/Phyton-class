{
 "cells": [
  {
   "cell_type": "markdown",
   "metadata": {},
   "source": [
    "Write a python function to accept user inputs, store it in a list and compute the highest number out of it. User can enter as many numbers as he/she wants. Take care of following things:\n",
    "Input must be entered by user\n",
    "Exception handling\n",
    "Null values\n",
    "Errors\n",
    "Datatypes Output of the function must be a number. It should accept correct values and for incorrect values, an error message must be displayed to the user."
   ]
  },
  {
   "cell_type": "code",
   "execution_count": 1,
   "metadata": {},
   "outputs": [
    {
     "name": "stdout",
     "output_type": "stream",
     "text": [
      "enter the size of the list6\n",
      "10\n",
      "20\n",
      "30\n",
      "40\n",
      "50\n",
      "60\n",
      "[10, 20, 30, 40, 50, 60]\n"
     ]
    },
    {
     "data": {
      "text/plain": [
       "60"
      ]
     },
     "execution_count": 1,
     "metadata": {},
     "output_type": "execute_result"
    }
   ],
   "source": [
    "e = []\n",
    "myval = int(input(\"enter the size of the list\"))\n",
    "for i in range(myval):\n",
    "    try:\n",
    "        ele = int(input())\n",
    "        e.append(ele)\n",
    "    except: \n",
    "       print(\"enter the value\")\n",
    "print(e)\n",
    "def maxN(e):\n",
    "    return max(e)\n",
    "maxN(e)"
   ]
  },
  {
   "cell_type": "code",
   "execution_count": null,
   "metadata": {},
   "outputs": [],
   "source": []
  }
 ],
 "metadata": {
  "kernelspec": {
   "display_name": "Python 3",
   "language": "python",
   "name": "python3"
  },
  "language_info": {
   "codemirror_mode": {
    "name": "ipython",
    "version": 3
   },
   "file_extension": ".py",
   "mimetype": "text/x-python",
   "name": "python",
   "nbconvert_exporter": "python",
   "pygments_lexer": "ipython3",
   "version": "3.8.3"
  }
 },
 "nbformat": 4,
 "nbformat_minor": 4
}
