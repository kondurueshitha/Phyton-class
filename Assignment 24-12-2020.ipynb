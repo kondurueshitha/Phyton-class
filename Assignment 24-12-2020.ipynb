{
 "cells": [
  {
   "cell_type": "code",
   "execution_count": 11,
   "metadata": {},
   "outputs": [
    {
     "name": "stdout",
     "output_type": "stream",
     "text": [
      "withoutorder=  m h i a\n",
      "with order:  m\n",
      "with order:  ma\n",
      "with order:  mah\n",
      "with order:  mahi\n"
     ]
    }
   ],
   "source": [
    "# 1.To remove duplicates from the string\n",
    "\n",
    "\n",
    "def removeDuplicate(str): # function to remove duplicate\n",
    "    s = set(str)          #set() is a unorderd data type,mutable,no duplicate values\n",
    "    s = \" \".join(s)       # joins two adjacent elements with any symbol defined in \" \"\n",
    "    print(\"withoutorder= \",s)# prints the str in unorderd format\n",
    "    a=\" \"\n",
    "    for i in str:\n",
    "        if(i in a):      # if any two values matches it will pass the loop\n",
    "            pass\n",
    "        else:\n",
    "            a = a+i\n",
    "            print(\"with order:\",a)\n",
    "str = \"mahima\"\n",
    "removeDuplicate(str)\n"
   ]
  },
  {
   "cell_type": "code",
   "execution_count": 65,
   "metadata": {},
   "outputs": [
    {
     "name": "stdout",
     "output_type": "stream",
     "text": [
      "Enter First number : 2\n",
      "1.4142135623730951\n",
      "Enter number : 8\n",
      "Enter number : 3\n",
      "2.0\n",
      "Enter number : 16\n",
      "Enter number : 4\n",
      "2.0\n"
     ]
    }
   ],
   "source": [
    "#2.write a class & method under it to perfom square root,cuberoot,nth root\n",
    "import math\n",
    "class squareroot:\n",
    " def __init__(self, data):\n",
    "    self.data=data\n",
    "def squareroot(self):\n",
    "    return squareroot(self.data)\n",
    "number = int(input('Enter First number : '))\n",
    "squareroot =math.sqrt(number)\n",
    "print(squareroot)\n",
    "class cuberoot:\n",
    " def __init__(self, data):\n",
    "    self.data=data\n",
    "def cuberoot(self):\n",
    "    return cuberoot(self.data)\n",
    "number2 = int(input('Enter number : '))\n",
    "number3 = int(input('Enter number : '))\n",
    "cuberoot =(number2**(1/number3))\n",
    "print(cuberoot)\n",
    "class nthroot:\n",
    " def __init__(self, data):\n",
    "    self.data=data\n",
    "def nthroot(self):\n",
    "    return nthroot(self.data)\n",
    "number4 = int(input('Enter number : '))\n",
    "number5 = int(input('Enter number : '))\n",
    "nthroot =number4**(1/number5)\n",
    "print(nthroot)\n",
    "\n"
   ]
  },
  {
   "cell_type": "code",
   "execution_count": 46,
   "metadata": {},
   "outputs": [
    {
     "name": "stdout",
     "output_type": "stream",
     "text": [
      "given list: [10, 20, 0, 40, 50]\n",
      "reverse list: [50, 40, 0, 20, 10]\n"
     ]
    }
   ],
   "source": [
    "#3.Write a function which takes a list as input and returns list in reverse order\n",
    "list =[10,20,0,40,50]\n",
    "print(\"given list:\", list) #prints the given list\n",
    "list.reverse() #it updates the given list in revrse order\n",
    "print(\"reverse list:\", list)"
   ]
  },
  {
   "cell_type": "code",
   "execution_count": 15,
   "metadata": {},
   "outputs": [
    {
     "name": "stdout",
     "output_type": "stream",
     "text": [
      "given list: ['apple', 'banana', 'orange', 'kiwi']\n",
      "reverse list: ['kiwi', 'orange', 'banana', 'apple']\n"
     ]
    }
   ],
   "source": [
    "#egs for reversing the gien list\n",
    "list =[\"apple\",\"banana\",\"orange\",\"kiwi\"]\n",
    "print(\"given list:\", list) #prints the given list\n",
    "list.reverse() #it updates the given list in revrse order\n",
    "print(\"reverse list:\", list)"
   ]
  },
  {
   "cell_type": "code",
   "execution_count": 27,
   "metadata": {},
   "outputs": [
    {
     "name": "stdout",
     "output_type": "stream",
     "text": [
      "Enter First number : 4\n",
      "Enter Second number : 5\n",
      "Enter Third number : 6\n",
      "The smallest of the 3 numbers is :  4\n",
      "The largest of the 3 numbers is :  6\n"
     ]
    }
   ],
   "source": [
    "#4.Write a class which takes three inputs and returns the smallest and the largest number.\n",
    "class smallest_largest:\n",
    " def __init__(self, data):\n",
    "    self.data=data\n",
    "def smallest(self):\n",
    "    return smallest(self.data)\n",
    "def largest(self):\n",
    "    return largest(self.data)\n",
    "number1 = int(input('Enter First number : '))\n",
    "number2 = int(input('Enter Second number : '))\n",
    "number3 = int(input('Enter Third number : '))\n",
    "def largest(num1, num2, num3):\n",
    "    if (num1 > num2) and (num1 > num3):\n",
    "        largest_num = num1\n",
    "    elif (num2 > num1) and (num2 > num3):\n",
    "        largest_num = num2\n",
    "    else:\n",
    "        largest_num = num3\n",
    "    print(\"The largest of the 3 numbers is : \", largest_num)\n",
    "def smallest(num1, num2, num3):\n",
    "    if (num1 < num2) and (num1 < num3):\n",
    "        smallest_num = num1\n",
    "    elif (num2 < num1) and (num2 < num3):\n",
    "        smallest_num = num2\n",
    "    else:\n",
    "        smallest_num = num3\n",
    "    print(\"The smallest of the 3 numbers is : \", smallest_num)\n",
    "smallest(number1, number2, number3)\n",
    "largest(number1, number2, number3)\n"
   ]
  },
  {
   "cell_type": "code",
   "execution_count": null,
   "metadata": {},
   "outputs": [],
   "source": []
  }
 ],
 "metadata": {
  "kernelspec": {
   "display_name": "Python 3",
   "language": "python",
   "name": "python3"
  },
  "language_info": {
   "codemirror_mode": {
    "name": "ipython",
    "version": 3
   },
   "file_extension": ".py",
   "mimetype": "text/x-python",
   "name": "python",
   "nbconvert_exporter": "python",
   "pygments_lexer": "ipython3",
   "version": "3.8.3"
  }
 },
 "nbformat": 4,
 "nbformat_minor": 4
}
